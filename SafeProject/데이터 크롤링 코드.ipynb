{
 "cells": [
  {
   "cell_type": "code",
   "execution_count": 1,
   "source": [
    "from selenium import webdriver\r\n",
    "from selenium.webdriver.common.keys import Keys\r\n",
    "from bs4 import BeautifulSoup\r\n",
    "import requests\r\n",
    "import pandas as pd\r\n",
    "import numpy as np\r\n",
    "import matplotlib.pyplot as plt\r\n",
    "# import seaborn as sns\r\n",
    "plt.rc('font', family='Malgun Gothic')\r\n",
    "plt.rc('axes', unicode_minus=False)\r\n",
    "from IPython.display import set_matplotlib_formats\r\n",
    "set_matplotlib_formats('retina')\r\n",
    "pd.set_option('display.max_rows', None)\r\n",
    "\r\n",
    "import time\r\n",
    "import re\r\n",
    "import folium\r\n",
    "import warnings\r\n",
    "warnings.filterwarnings('ignore')"
   ],
   "outputs": [],
   "metadata": {}
  },
  {
   "cell_type": "markdown",
   "source": [
    "표본수 측정 참고 사이트: https://www.nownsurvey.com/calculator/  \r\n",
    "* **https://www.surveymonkey.com/mp/sample-size-calculator/**\r\n",
    "* **https://techntalk.tistory.com/entry/%ED%91%9C%EB%B3%B8%EC%A1%B0%EC%82%AC-%EC%98%A4%EC%B0%A8%EB%B2%94%EC%9C%84margin-of-error-%ED%98%B9%EC%9D%80-%ED%91%9C%EB%B3%B8%EC%98%A4%EC%B0%A8%EB%B2%94%EC%9C%84%EC%9D%98-%EC%9D%98%EB%AF%B8-%EC%A7%80%EC%A7%80%EC%9C%A8%EC%9D%98-%EC%8B%A0%EB%A2%B0%EA%B5%AC%EA%B0%84%EA%B3%BC-%EC%83%98%ED%94%8C%ED%81%AC%EA%B8%B0-%EA%B2%B0%EC%A0%95%EB%AC%B8%EC%A0%9C**"
   ],
   "metadata": {}
  },
  {
   "cell_type": "markdown",
   "source": [
    "# 표본수 측정"
   ],
   "metadata": {}
  },
  {
   "cell_type": "markdown",
   "source": [
    "* 2019년 기준 대한민국 국민 수 : 51710000  \r\n",
    "* 신뢰수준 95%  \r\n",
    "* 표본오차 5%로 표본 수 측정  \r\n",
    "  \r\n",
    "[사례] 선거철이 되면 우리는 다음과 같은 기사를 흔히 접하게 된다. “후보 지지율 설문조사에서 A후보는 40%, B후보는 30%의 지지율을 얻었다. 이번 조사는 전국 성인남녀 천명을 대상으로 무작위 전화 면접조사로 실시되었고 신뢰수준 95%에서 표본오차는 ±3.0%포인트이다.”\r\n",
    "\r\n",
    "(의문) 여기서 ‘신뢰수준 95%에서 표본오차 3.0%포인트’란 말의 의미는 무엇일까?\r\n",
    "\r\n",
    "(해석) 위와 같은 동일한 형태의 여론조사를 100번 실시한다면 95번은 A후보가 40%에서 ±3.0% 인 37% ~ 43%, B후보는 30%에서 ±3.0% 인 27% ~ 33% 사이의 지지율을 얻을 것으로 기대된다는 의미이다.  \r\n",
    "\r\n",
    "즉, 이 조사를 95% 믿을 수 있다는 뜻이 아니라 같은 조사를 100번 하면 표본오차 범위 내에서 동일한 결과가 나올 횟수가 95번이라는 의미다. 표본오차는 표본 크기가 커질수록 줄어들고, 작아지면 늘어난다."
   ],
   "metadata": {}
  },
  {
   "cell_type": "markdown",
   "source": [
    "$$n = \\frac{\\frac{Z^2\\cdot p(1-p)}{e^2}}{1+(\\frac{Z^2\\cdot p(1-p)}{e^2N})}$$"
   ],
   "metadata": {}
  },
  {
   "cell_type": "code",
   "execution_count": 9,
   "source": [
    "# 95% 신뢰수준의 z-score = 1.96\r\n",
    "N = 51710000\r\n",
    "Z = 1.96\r\n",
    "e = 0.05\r\n",
    "p = 0.5\r\n",
    "\r\n",
    "denominaotr = 1 + (Z**2 * (p*(1-p)) / (e**2 * N))\r\n",
    "numerator = (Z**2 * (p*(1-p))) / e**2\r\n",
    "n = numerator / denominaotr\r\n",
    "n"
   ],
   "outputs": [
    {
     "output_type": "execute_result",
     "data": {
      "text/plain": [
       "384.1571460489416"
      ]
     },
     "metadata": {},
     "execution_count": 9
    }
   ],
   "metadata": {}
  },
  {
   "cell_type": "code",
   "execution_count": 10,
   "source": [
    "# # 전체 메타데이터는 데이터 정합성이 떨어져 데이터 목록(191건) 크롤링하기로 결정\r\n",
    "# df = pd.read_csv('./전국민방위대피시설표준데이터.csv', encoding='cp949')\r\n",
    "# print(df.shape)\r\n",
    "# print(df.isnull().sum())\r\n",
    "# df.head()"
   ],
   "outputs": [],
   "metadata": {}
  },
  {
   "cell_type": "markdown",
   "source": [
    "# Data 크롤링"
   ],
   "metadata": {}
  },
  {
   "cell_type": "code",
   "execution_count": 7,
   "source": [
    "driver = webdriver.Chrome('C:/Users/seob6/Desktop/chromedriver/chromedriver.exe')\r\n",
    "\r\n",
    "# 로그인\r\n",
    "driver.get('https://www.data.go.kr/uim/login/loginView.do')\r\n",
    "time.sleep(1)\r\n",
    "id = driver.find_element_by_id('mberId')\r\n",
    "pw = driver.find_element_by_id('pswrd')\r\n",
    "id.send_keys('seob6615')\r\n",
    "pw.send_keys('!ichthus13!')\r\n",
    "driver.find_element_by_class_name('btn-login').click()\r\n",
    "\r\n",
    "# 대피시설 링크\r\n",
    "driver.get('https://www.data.go.kr/data/15021098/standard.do')\r\n",
    "\r\n",
    "# 1페이지 데이터 다운로드\r\n",
    "driver.find_element_by_xpath('//*[@id=\"contents\"]/div[2]/nav/strong').click()\r\n",
    "time.sleep(1.5)\r\n",
    "data_list = driver.find_elements_by_css_selector('div.data-list li > div.tit > a')  \r\n",
    "for i in data_list:\r\n",
    "    driver.implicitly_wait(3)\r\n",
    "    i.click()\r\n",
    "    driver.find_element_by_xpath('//*[@id=\"layer_data_infomation\"]/div[2]/table/tbody/tr[7]/td/div/div/div[2]/a').click()\r\n",
    "    time.sleep(1)\r\n",
    "    driver.find_element_by_xpath('//*[@id=\"layer_data_infomation\"]/div[3]/div/a').click()   \r\n",
    "\r\n",
    "# 페이지 돌면서 지역별 데이터 다운로드\r\n",
    "while 1:\r\n",
    "    for i in np.arange(3, 13):\r\n",
    "        driver.find_element_by_xpath(f'//*[@id=\"contents\"]/div[2]/nav/a[{i}]').click()     \r\n",
    "        time.sleep(1)\r\n",
    "        \r\n",
    "        # 데이터 5개 목록\r\n",
    "        data_list = driver.find_elements_by_css_selector('div.data-list li > div.tit > a')  \r\n",
    "        print(len(data_list))\r\n",
    "        breaker = False\r\n",
    "\r\n",
    "        try: \r\n",
    "            if (len(data_list) <= 5) and (len(data_list) >= 2):\r\n",
    "                for i in data_list:\r\n",
    "                    driver.implicitly_wait(3)\r\n",
    "                    i.click()\r\n",
    "                    driver.find_element_by_xpath('//*[@id=\"layer_data_infomation\"]/div[2]/table/tbody/tr[7]/td/div/div/div[2]/a').click()\r\n",
    "                    time.sleep(1)\r\n",
    "                    driver.find_element_by_xpath('//*[@id=\"layer_data_infomation\"]/div[3]/div/a').click()\r\n",
    "            elif len(data_list) == 1:\r\n",
    "                for i in data_list:\r\n",
    "                    driver.implicitly_wait(3)\r\n",
    "                    i.click()\r\n",
    "                    driver.find_element_by_xpath('//*[@id=\"layer_data_infomation\"]/div[2]/table/tbody/tr[7]/td/div/div/div[2]/a').click()\r\n",
    "                    time.sleep(1)\r\n",
    "                    driver.find_element_by_xpath('//*[@id=\"layer_data_infomation\"]/div[3]/div/a').click()\r\n",
    "                raise Exception('No More Data')\r\n",
    "            elif len(data_list) == 0:\r\n",
    "                raise Exception('No More Data')\r\n",
    "\r\n",
    "        except Exception as e:\r\n",
    "            print(e)\r\n",
    "            breaker = True\r\n",
    "            break\r\n",
    "    if breaker == True:\r\n",
    "        break"
   ],
   "outputs": [
    {
     "output_type": "stream",
     "name": "stdout",
     "text": [
      "5\n",
      "5\n",
      "5\n",
      "5\n",
      "5\n",
      "5\n",
      "5\n",
      "5\n",
      "5\n",
      "5\n",
      "5\n",
      "5\n",
      "5\n",
      "5\n",
      "5\n",
      "5\n",
      "5\n",
      "5\n",
      "5\n",
      "5\n",
      "5\n",
      "5\n",
      "5\n",
      "5\n",
      "5\n",
      "5\n",
      "5\n",
      "5\n",
      "5\n",
      "5\n",
      "5\n",
      "5\n",
      "5\n",
      "5\n",
      "5\n",
      "5\n",
      "5\n",
      "1\n",
      "No More Data\n"
     ]
    }
   ],
   "metadata": {}
  }
 ],
 "metadata": {
  "kernelspec": {
   "name": "python3",
   "display_name": "Python 3.7.9 64-bit ('nomad_crawl': conda)"
  },
  "language_info": {
   "codemirror_mode": {
    "name": "ipython",
    "version": 3
   },
   "file_extension": ".py",
   "mimetype": "text/x-python",
   "name": "python",
   "nbconvert_exporter": "python",
   "pygments_lexer": "ipython3",
   "version": "3.7.9"
  },
  "toc": {
   "base_numbering": 1,
   "nav_menu": {},
   "number_sections": true,
   "sideBar": true,
   "skip_h1_title": false,
   "title_cell": "Table of Contents",
   "title_sidebar": "Contents",
   "toc_cell": false,
   "toc_position": {},
   "toc_section_display": true,
   "toc_window_display": false
  },
  "interpreter": {
   "hash": "3d4b0f907c7a938ba7f071af18c861cb14796bc2bc63236be81e6b9643922a2d"
  }
 },
 "nbformat": 4,
 "nbformat_minor": 2
}